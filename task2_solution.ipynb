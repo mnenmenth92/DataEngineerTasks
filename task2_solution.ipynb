{
 "cells": [
  {
   "cell_type": "code",
   "execution_count": 5,
   "metadata": {},
   "outputs": [],
   "source": [
    "import pandas\n",
    "import psycopg2"
   ]
  },
  {
   "cell_type": "code",
   "execution_count": 6,
   "metadata": {},
   "outputs": [],
   "source": [
    "\"\"\"\n",
    "connect database with psycopg2\n",
    "\"\"\"\n",
    "\n",
    "host = 'localhost'\n",
    "port = '5432'\n",
    "dbname = 'mydatabase'\n",
    "username = 'maciek'\n",
    "pwd = 'dbhaslo'\n",
    "\n",
    "connection = psycopg2.connect(\"host='{}' port={} dbname='{}' user={} password={}\".format(host, \n",
    "                                                                                         port, \n",
    "                                                                                         dbname, \n",
    "                                                                                         username, \n",
    "                                                                                         pwd))\n"
   ]
  },
  {
   "cell_type": "code",
   "execution_count": 8,
   "metadata": {},
   "outputs": [],
   "source": [
    "\"\"\"\n",
    "read database to check if all works\n",
    "\"\"\"\n",
    "query_interactions = \"select * from user_interaction;\"\n",
    "query_users = \"select * from users;\"\n",
    "user_interactions_dataframe = pandas.read_sql_query(query_interactions,connection)\n",
    "users_dataframe = pandas.read_sql_query(query_users,connection)\n",
    "# print(user_interactions_dataframe)\n",
    "# print(users_dataframe)"
   ]
  },
  {
   "cell_type": "code",
   "execution_count": null,
   "metadata": {},
   "outputs": [],
   "source": []
  }
 ],
 "metadata": {
  "kernelspec": {
   "display_name": "Python 2",
   "language": "python",
   "name": "python2"
  },
  "language_info": {
   "codemirror_mode": {
    "name": "ipython",
    "version": 2
   },
   "file_extension": ".py",
   "mimetype": "text/x-python",
   "name": "python",
   "nbconvert_exporter": "python",
   "pygments_lexer": "ipython2",
   "version": "2.7.16"
  }
 },
 "nbformat": 4,
 "nbformat_minor": 2
}
