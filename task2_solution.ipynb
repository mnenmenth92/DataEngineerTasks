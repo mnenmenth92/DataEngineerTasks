{
 "cells": [
  {
   "cell_type": "code",
   "execution_count": 135,
   "metadata": {},
   "outputs": [],
   "source": [
    "import pandas\n",
    "import psycopg2"
   ]
  },
  {
   "cell_type": "code",
   "execution_count": 136,
   "metadata": {},
   "outputs": [],
   "source": [
    "# connect database with psycopg2\n",
    "host = 'localhost'\n",
    "port = '5432'\n",
    "dbname = 'mydatabase'\n",
    "username = 'maciek'\n",
    "pwd = 'dbhaslo'\n",
    "\n",
    "connection = psycopg2.connect(\"host='{}' port={} dbname='{}' user={} password={}\".format(host, \n",
    "                                                                                         port, \n",
    "                                                                                         dbname, \n",
    "                                                                                         username, \n",
    "                                                                                         pwd))"
   ]
  },
  {
   "cell_type": "code",
   "execution_count": 137,
   "metadata": {},
   "outputs": [],
   "source": [
    "# read data from database\n",
    "\n",
    "query_interactions = \"select * from user_interaction;\"\n",
    "query_users = \"select * from users;\"\n",
    "user_interactions_df = pandas.read_sql_query(query_interactions,connection)\n",
    "users_dataframe = pandas.read_sql_query(query_users,connection)\n",
    "# print(user_interactions_dataframe)\n",
    "# print(users_dataframe)"
   ]
  },
  {
   "cell_type": "code",
   "execution_count": 138,
   "metadata": {},
   "outputs": [
    {
     "name": "stdout",
     "output_type": "stream",
     "text": [
      "events on which wrong user id occured ['CLICK', 'VIEW']\n"
     ]
    }
   ],
   "source": [
    "\"\"\"\n",
    "Task 1 - find events with wrong user_id's\n",
    "list incorrect events types\n",
    "\"\"\"\n",
    "# function checks if user_id exist in user list\n",
    "def check_user_exist(row):\n",
    "    matching_users = users_dataframe[users_dataframe['user_id']==row.user_id]\n",
    "    return matching_users.empty\n",
    "# add column with information which users_id are incorrect\n",
    "user_interactions_df['incorrect'] = user_interactions_df.apply(check_user_exist, 'columns')\n",
    "# get dataframe with incorrect events\n",
    "incorrect_events = user_interactions_df[user_interactions_df['incorrect']]\n",
    "# get incorrrect events list and print result\n",
    "print('events on which wrong user id occured {}'.format(incorrect_events['event_type'].drop_duplicates().tolist()))"
   ]
  },
  {
   "cell_type": "code",
   "execution_count": 139,
   "metadata": {},
   "outputs": [
    {
     "name": "stdout",
     "output_type": "stream",
     "text": [
      "days with duplicated events:\n",
      "    date_only  duplicates\n",
      "0  2019-05-05           2\n"
     ]
    }
   ],
   "source": [
    "\"\"\"\n",
    "Task 2 - find days with high number of duplicated events \n",
    "\"\"\"\n",
    "# configuration\n",
    "# defines what number of duplicated events in one day is listed out in result\n",
    "min_number_of_duplicates = 1\n",
    "\n",
    "# add date only column to events list\n",
    "user_interactions_df['date_only'] = user_interactions_df['event_time'].dt.date\n",
    "# get all days dataframe\n",
    "all_days = user_interactions_df['date_only'].drop_duplicates()\n",
    "all_days = pandas.DataFrame(all_days, columns=['date_only'])\n",
    "# function which find duplicates\n",
    "def find_duplicates(row):\n",
    "    one_day_events = user_interactions_df[user_interactions_df['date_only'] == row.date_only]\n",
    "    duplicates = one_day_events[one_day_events.duplicated()]\n",
    "    return(len(duplicates))\n",
    "# add number of duplicated events to all days dataframe\n",
    "number_of_duplicates = all_days.apply(find_duplicates, 'columns')\n",
    "all_days['duplicates'] = number_of_duplicates\n",
    "# print result\n",
    "print('days with duplicated events:')\n",
    "print(all_days[all_days['duplicates']>=min_number_of_duplicates])\n"
   ]
  },
  {
   "cell_type": "code",
   "execution_count": 200,
   "metadata": {},
   "outputs": [],
   "source": [
    "\"\"\"\n",
    "Task 3 - find country with greates number of users\n",
    "Temporary: for tests add more users\n",
    "\"\"\"\n",
    "\n",
    "extended_users_df = users_dataframe.append(pandas.DataFrame([[101,'18-45', 'PL'], [102,'18-45', 'UK']],\n",
    "                                        columns = ['user_id', 'age', 'country']))\n"
   ]
  },
  {
   "cell_type": "code",
   "execution_count": 202,
   "metadata": {},
   "outputs": [
    {
     "name": "stdout",
     "output_type": "stream",
     "text": [
      "given list of users:\n",
      "   user_id    age country\n",
      "0        3  18-45      DE\n",
      "1        1  46-80      DE\n",
      "2       45  46-80      UK\n",
      "3      100  18-45      UK\n",
      "\n",
      " list of countries with greatest number of users:\n",
      "  country  num_of_users\n",
      "0      DE             2\n",
      "2      UK             2\n",
      "\n",
      "\n",
      "extended list of users:\n",
      "   user_id    age country\n",
      "0        3  18-45      DE\n",
      "1        1  46-80      DE\n",
      "2       45  46-80      UK\n",
      "3      100  18-45      UK\n",
      "0      101  18-45      PL\n",
      "1      102  18-45      UK\n",
      "\n",
      " list of countries with greatest number of users:\n",
      "  country  num_of_users\n",
      "2      UK             3\n"
     ]
    }
   ],
   "source": [
    "\"\"\"\n",
    "Task 3 - find countries with greates number of users\n",
    "Solution\n",
    "\"\"\"\n",
    "# function returning countires with greates number of users\n",
    "def max_user_num_from_country(users):\n",
    "    unique_countries = pandas.DataFrame(users['country'].drop_duplicates(), columns = ['country'])\n",
    "    unique_countries['num_of_users'] = unique_countries.apply(number_of_users, 'columns', users=users)\n",
    "    max_number_of_user = unique_countries.max()['num_of_users']\n",
    "    max_user_num_countries = unique_countries[unique_countries['num_of_users'] == max_number_of_user]\n",
    "    return max_user_num_countries\n",
    "# function returning number of usres in given country\n",
    "def number_of_users(row, users):\n",
    "    return len(users[users['country'] == row.country])\n",
    "\n",
    "# print results for users list\n",
    "print('given list of users:\\n{}'.format(users_dataframe))\n",
    "print('\\n list of countries with greatest number of users:\\n{}'.format(max_user_num_from_country(users_dataframe)))\n",
    "# result for data extended for purpose of this exerciese \n",
    "print('\\n\\nextended list of users:\\n{}'.format(extended_users_df))\n",
    "print('\\n list of countries with greatest number of users:\\n{}'.format(max_user_num_from_country(extended_users_df)))\n",
    "\n"
   ]
  },
  {
   "cell_type": "code",
   "execution_count": null,
   "metadata": {},
   "outputs": [],
   "source": []
  }
 ],
 "metadata": {
  "kernelspec": {
   "display_name": "Python 2",
   "language": "python",
   "name": "python2"
  },
  "language_info": {
   "codemirror_mode": {
    "name": "ipython",
    "version": 2
   },
   "file_extension": ".py",
   "mimetype": "text/x-python",
   "name": "python",
   "nbconvert_exporter": "python",
   "pygments_lexer": "ipython2",
   "version": "2.7.16"
  }
 },
 "nbformat": 4,
 "nbformat_minor": 2
}
